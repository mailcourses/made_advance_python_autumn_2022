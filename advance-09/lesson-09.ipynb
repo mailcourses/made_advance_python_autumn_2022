{
 "cells": [
  {
   "cell_type": "markdown",
   "id": "946fc07e",
   "metadata": {},
   "source": [
    "![title](reminder.png)"
   ]
  },
  {
   "cell_type": "code",
   "execution_count": null,
   "id": "565e7c7c",
   "metadata": {},
   "outputs": [],
   "source": []
  },
  {
   "cell_type": "code",
   "execution_count": null,
   "id": "005d8608",
   "metadata": {},
   "outputs": [],
   "source": []
  },
  {
   "cell_type": "code",
   "execution_count": 11,
   "id": "0ce619db",
   "metadata": {},
   "outputs": [
    {
     "name": "stdout",
     "output_type": "stream",
     "text": [
      "1 2\n",
      "1 2\n"
     ]
    }
   ],
   "source": [
    "dct = {1: 1, 2: 2}\n",
    "\n",
    "for key, val in dct.keys(), dct.values():\n",
    "    print(key, val)"
   ]
  },
  {
   "cell_type": "code",
   "execution_count": 12,
   "id": "b990ebe7",
   "metadata": {},
   "outputs": [],
   "source": [
    "def deco(fn):\n",
    "    z = 0\n",
    "    def inner(*args, **kwargs):\n",
    "        x = z\n",
    "    return inner"
   ]
  },
  {
   "cell_type": "code",
   "execution_count": null,
   "id": "04b3d97b",
   "metadata": {},
   "outputs": [],
   "source": []
  },
  {
   "cell_type": "code",
   "execution_count": null,
   "id": "b3022f1b",
   "metadata": {},
   "outputs": [],
   "source": [
    "# task.py\n",
    "\n",
    "\n",
    "def solutions():\n",
    "    return 123\n",
    "\n",
    "\n",
    "solution()"
   ]
  },
  {
   "cell_type": "code",
   "execution_count": null,
   "id": "2aa69c0b",
   "metadata": {},
   "outputs": [],
   "source": [
    "!python task.py"
   ]
  },
  {
   "cell_type": "code",
   "execution_count": null,
   "id": "4e76ff33",
   "metadata": {},
   "outputs": [],
   "source": [
    "# test_task.py\n",
    "\n",
    "from task import solution\n",
    "\n",
    "\n",
    "def test_solution():\n",
    "    pass"
   ]
  },
  {
   "cell_type": "code",
   "execution_count": null,
   "id": "03d09a7c",
   "metadata": {},
   "outputs": [],
   "source": [
    "# task.py\n",
    "\n",
    "\n",
    "def solutions():\n",
    "    return 123\n",
    "\n",
    "\n",
    "if __name__ == \"__main__\":\n",
    "    solution()"
   ]
  },
  {
   "cell_type": "code",
   "execution_count": null,
   "id": "3a426d24",
   "metadata": {},
   "outputs": [],
   "source": [
    "# task.py\n",
    "\n",
    "def solution(level):\n",
    "    threads = [Thread(connect) for i in range(level)]\n",
    "    for th in threads:\n",
    "        th.start()\n",
    "        \n",
    "    for th in threads:\n",
    "        th.join()\n",
    "\n",
    "\n",
    "@click.param(\"level\")\n",
    "def run_solution(level):\n",
    "    solution(level)\n",
    "\n",
    "    \n",
    "if __name__ == \"__main__\":\n",
    "    run_solution()"
   ]
  },
  {
   "cell_type": "code",
   "execution_count": null,
   "id": "b583e81a",
   "metadata": {},
   "outputs": [],
   "source": [
    "# task.py\n",
    "\n",
    "# norm\n",
    "VK_HOST = \"vk.com\"\n",
    "\n",
    "# not norm\n",
    "N_THREADS = 10\n",
    "\n",
    "\n",
    "def solution():\n",
    "    threads = [Thread(connect) for i in range(N_THREADS)]\n",
    "\n",
    "\n",
    "if __name__ == \"__main__\":\n",
    "    N_THREAD = sys.argv[2]  # or file\n",
    "    \n",
    "    solution()"
   ]
  },
  {
   "cell_type": "code",
   "execution_count": null,
   "id": "8b068b2b",
   "metadata": {},
   "outputs": [],
   "source": [
    "# task.py\n",
    "\n",
    "# norm\n",
    "VK_HOST = \"vk.com\"\n",
    "N_THREADS_DEFAULT = 10\n",
    "\n",
    "\n",
    "def solution(n_threads):\n",
    "    threads = [Thread(connect) for i in range(n_threads)]\n",
    "\n",
    "\n",
    "if __name__ == \"__main__\":\n",
    "    n_threads = sys.argv[2] or N_THREADS_DEFAULT\n",
    "    \n",
    "    solution(n_threads)"
   ]
  },
  {
   "cell_type": "code",
   "execution_count": null,
   "id": "2667b5fd",
   "metadata": {},
   "outputs": [],
   "source": []
  },
  {
   "cell_type": "code",
   "execution_count": 14,
   "id": "789caae8",
   "metadata": {},
   "outputs": [
    {
     "name": "stdout",
     "output_type": "stream",
     "text": [
      "try\n",
      "else\n",
      "final\n"
     ]
    }
   ],
   "source": [
    "try:\n",
    "    print(\"try\")\n",
    "except Exception as err:\n",
    "    print(\"error\")\n",
    "else:\n",
    "    print(\"else\")\n",
    "finally:\n",
    "    print(\"final\")\n",
    "    "
   ]
  },
  {
   "cell_type": "code",
   "execution_count": 15,
   "id": "a9330856",
   "metadata": {},
   "outputs": [
    {
     "name": "stdout",
     "output_type": "stream",
     "text": [
      "try\n",
      "error\n",
      "final\n"
     ]
    }
   ],
   "source": [
    "try:\n",
    "    print(\"try\")\n",
    "    raise ValueError(\"WRONG\")\n",
    "except Exception as err:\n",
    "    print(\"error\")\n",
    "else:\n",
    "    print(\"else\")\n",
    "finally:\n",
    "    print(\"final\")\n",
    "    "
   ]
  },
  {
   "cell_type": "code",
   "execution_count": 16,
   "id": "a6032c24",
   "metadata": {},
   "outputs": [
    {
     "name": "stdout",
     "output_type": "stream",
     "text": [
      "try\n",
      "final\n"
     ]
    },
    {
     "ename": "Exception",
     "evalue": "WRONG",
     "output_type": "error",
     "traceback": [
      "\u001b[0;31m---------------------------------------------------------------------------\u001b[0m",
      "\u001b[0;31mException\u001b[0m                                 Traceback (most recent call last)",
      "Cell \u001b[0;32mIn [16], line 3\u001b[0m\n\u001b[1;32m      1\u001b[0m \u001b[38;5;28;01mtry\u001b[39;00m:\n\u001b[1;32m      2\u001b[0m     \u001b[38;5;28mprint\u001b[39m(\u001b[38;5;124m\"\u001b[39m\u001b[38;5;124mtry\u001b[39m\u001b[38;5;124m\"\u001b[39m)\n\u001b[0;32m----> 3\u001b[0m     \u001b[38;5;28;01mraise\u001b[39;00m \u001b[38;5;167;01mException\u001b[39;00m(\u001b[38;5;124m\"\u001b[39m\u001b[38;5;124mWRONG\u001b[39m\u001b[38;5;124m\"\u001b[39m)\n\u001b[1;32m      4\u001b[0m \u001b[38;5;28;01mexcept\u001b[39;00m \u001b[38;5;167;01mValueError\u001b[39;00m \u001b[38;5;28;01mas\u001b[39;00m err:\n\u001b[1;32m      5\u001b[0m     \u001b[38;5;28mprint\u001b[39m(\u001b[38;5;124m\"\u001b[39m\u001b[38;5;124merror\u001b[39m\u001b[38;5;124m\"\u001b[39m)\n",
      "\u001b[0;31mException\u001b[0m: WRONG"
     ]
    }
   ],
   "source": [
    "try:\n",
    "    print(\"try\")\n",
    "    raise Exception(\"WRONG\")\n",
    "except ValueError as err:\n",
    "    print(\"error\")\n",
    "else:\n",
    "    print(\"else\")\n",
    "finally:\n",
    "    print(\"final\")"
   ]
  },
  {
   "cell_type": "code",
   "execution_count": 17,
   "id": "d5bcfd29",
   "metadata": {},
   "outputs": [
    {
     "name": "stdout",
     "output_type": "stream",
     "text": [
      "try\n",
      "error\n",
      "final\n"
     ]
    },
    {
     "ename": "ValueError",
     "evalue": "WRONG",
     "output_type": "error",
     "traceback": [
      "\u001b[0;31m---------------------------------------------------------------------------\u001b[0m",
      "\u001b[0;31mValueError\u001b[0m                                Traceback (most recent call last)",
      "Cell \u001b[0;32mIn [17], line 3\u001b[0m\n\u001b[1;32m      1\u001b[0m \u001b[38;5;28;01mtry\u001b[39;00m:\n\u001b[1;32m      2\u001b[0m     \u001b[38;5;28mprint\u001b[39m(\u001b[38;5;124m\"\u001b[39m\u001b[38;5;124mtry\u001b[39m\u001b[38;5;124m\"\u001b[39m)\n\u001b[0;32m----> 3\u001b[0m     \u001b[38;5;28;01mraise\u001b[39;00m \u001b[38;5;167;01mValueError\u001b[39;00m(\u001b[38;5;124m\"\u001b[39m\u001b[38;5;124mWRONG\u001b[39m\u001b[38;5;124m\"\u001b[39m)\n\u001b[1;32m      4\u001b[0m \u001b[38;5;28;01mexcept\u001b[39;00m \u001b[38;5;167;01mException\u001b[39;00m \u001b[38;5;28;01mas\u001b[39;00m err:\n\u001b[1;32m      5\u001b[0m     \u001b[38;5;28mprint\u001b[39m(\u001b[38;5;124m\"\u001b[39m\u001b[38;5;124merror\u001b[39m\u001b[38;5;124m\"\u001b[39m)\n",
      "\u001b[0;31mValueError\u001b[0m: WRONG"
     ]
    }
   ],
   "source": [
    "try:\n",
    "    print(\"try\")\n",
    "    raise ValueError(\"WRONG\")\n",
    "except Exception as err:\n",
    "    print(\"error\")\n",
    "    raise\n",
    "else:\n",
    "    print(\"else\")\n",
    "finally:\n",
    "    print(\"final\")\n",
    "    "
   ]
  },
  {
   "cell_type": "code",
   "execution_count": 30,
   "id": "d8fe8fb3",
   "metadata": {},
   "outputs": [
    {
     "name": "stdout",
     "output_type": "stream",
     "text": [
      "ERROR\n"
     ]
    },
    {
     "name": "stderr",
     "output_type": "stream",
     "text": [
      "Traceback (most recent call last):\n",
      "  File \"/var/folders/c1/9wdb7dps2x332c6l1y2hrqkh0000gp/T/ipykernel_98956/3269297181.py\", line 6, in <module>\n",
      "    x = d[\"c\"][\"a\"][2]\n",
      "IndexError: list index out of range\n",
      "\n",
      "During handling of the above exception, another exception occurred:\n",
      "\n",
      "Traceback (most recent call last):\n",
      "  File \"/Users/g.kandaurov/projects/made_advance_python_autumn_2022/.venv/lib/python3.10/site-packages/IPython/core/interactiveshell.py\", line 3378, in run_code\n",
      "    exec(code_obj, self.user_global_ns, self.user_ns)\n",
      "  File \"/var/folders/c1/9wdb7dps2x332c6l1y2hrqkh0000gp/T/ipykernel_98956/3269297181.py\", line 10, in <module>\n",
      "    traceback.print_tb()\n",
      "TypeError: print_tb() missing 1 required positional argument: 'tb'\n"
     ]
    }
   ],
   "source": [
    "d = {\"c\": {\"a\": [1, 2]}}\n",
    "     \n",
    "# x = d[\"c\"][\"a\"][2]\n",
    "\n",
    "try:\n",
    "    x = d[\"c\"][\"a\"][2]\n",
    "except IndexError as err:\n",
    "    print(\"ERROR\")\n",
    "    x = 0\n",
    "    traceback.print_last()\n",
    "\n"
   ]
  },
  {
   "cell_type": "code",
   "execution_count": 20,
   "id": "02308d22",
   "metadata": {},
   "outputs": [],
   "source": [
    "import sys, traceback"
   ]
  },
  {
   "cell_type": "code",
   "execution_count": 19,
   "id": "8698ba67",
   "metadata": {},
   "outputs": [
    {
     "ename": "AttributeError",
     "evalue": "module 'sys' has no attribute 'traceback'",
     "output_type": "error",
     "traceback": [
      "\u001b[0;31m---------------------------------------------------------------------------\u001b[0m",
      "\u001b[0;31mAttributeError\u001b[0m                            Traceback (most recent call last)",
      "Cell \u001b[0;32mIn [19], line 1\u001b[0m\n\u001b[0;32m----> 1\u001b[0m \u001b[43msys\u001b[49m\u001b[38;5;241;43m.\u001b[39;49m\u001b[43mtraceback\u001b[49m\n",
      "\u001b[0;31mAttributeError\u001b[0m: module 'sys' has no attribute 'traceback'"
     ]
    }
   ],
   "source": [
    "sys.traceback"
   ]
  },
  {
   "cell_type": "code",
   "execution_count": 33,
   "id": "5e8aa482",
   "metadata": {},
   "outputs": [
    {
     "name": "stdout",
     "output_type": "stream",
     "text": [
      "ERROR\n"
     ]
    },
    {
     "name": "stderr",
     "output_type": "stream",
     "text": [
      "Traceback (most recent call last):\n",
      "  File \"/var/folders/c1/9wdb7dps2x332c6l1y2hrqkh0000gp/T/ipykernel_98956/3875149274.py\", line 6, in <module>\n",
      "    x = d[\"c\"][\"a\"][2]\n",
      "IndexError: list index out of range\n"
     ]
    }
   ],
   "source": [
    "d = {\"c\": {\"a\": [1, 2]}}\n",
    "     \n",
    "# x = d[\"c\"][\"a\"][2]\n",
    "\n",
    "try:\n",
    "    x = d[\"c\"][\"a\"][2]\n",
    "except IndexError as err:\n",
    "    print(\"ERROR\")\n",
    "    x = 0\n",
    "    traceback.print_exception(err)\n"
   ]
  },
  {
   "cell_type": "code",
   "execution_count": null,
   "id": "04630422",
   "metadata": {},
   "outputs": [],
   "source": []
  },
  {
   "cell_type": "code",
   "execution_count": 39,
   "id": "3b1c5679",
   "metadata": {},
   "outputs": [
    {
     "name": "stdout",
     "output_type": "stream",
     "text": [
      "[0, 10]\n",
      "[0, 10]\n",
      "10\n",
      "10\n"
     ]
    }
   ],
   "source": [
    "def factorial(n):\n",
    "    return n\n",
    "\n",
    "n = 10\n",
    "\n",
    "# fact_n = factorial(n)\n",
    "# if fact_n % 5 == 0 andfact_n % 2 == 0:\n",
    "#     print(fact_n)\n",
    "\n",
    "lst = [\n",
    "    factorial(n)\n",
    "    for n in range(11)\n",
    "    if factorial(n) % 5 == 0 and factorial(n) % 2 == 0\n",
    "]\n",
    "\n",
    "lst_walrus = [\n",
    "    fact_n\n",
    "    for n in range(11)\n",
    "    if (fact_n := factorial(n)) % 5 == 0 and fact_n % 2 == 0\n",
    "]\n",
    "\n",
    "\n",
    "print(lst)\n",
    "print(lst_walrus)\n",
    "\n",
    "\n",
    "if factorial(n) % 5 == 0 and factorial(n) % 2 == 0:\n",
    "    print(factorial(n))\n",
    "    \n",
    "    \n",
    "if (fact_n := factorial(n)) % 5 == 0 and fact_n % 2 == 0:\n",
    "    print(fact_n)\n",
    "    "
   ]
  },
  {
   "cell_type": "code",
   "execution_count": 57,
   "id": "b12954f0",
   "metadata": {},
   "outputs": [
    {
     "name": "stdout",
     "output_type": "stream",
     "text": [
      "case 10\n",
      "case str\n",
      "case anything abc\n"
     ]
    }
   ],
   "source": [
    "for x in (10, \"str\", \"abc\"):\n",
    "    match x:\n",
    "        case 9:\n",
    "            print(\"case 9\")\n",
    "        case 10:\n",
    "            print(\"case 10\")\n",
    "        case 11:\n",
    "            print(\"case 11\")\n",
    "        case \"str\":\n",
    "            print(\"case str\")\n",
    "#         case _:\n",
    "#             print(\"case anything\", type(_))\n",
    "        case y:\n",
    "            print(\"case anything\", y)\n",
    "        "
   ]
  },
  {
   "cell_type": "code",
   "execution_count": 62,
   "id": "9520ff54",
   "metadata": {},
   "outputs": [
    {
     "name": "stdout",
     "output_type": "stream",
     "text": [
      "\n",
      "x=[]\n",
      "empty\n",
      "\n",
      "x=[10]\n",
      "case 10\n",
      "\n",
      "x=[10, 12]\n",
      "case wild\n",
      "\n",
      "x=[22]\n"
     ]
    }
   ],
   "source": [
    "for x in ([], [10], [10, 12], [22]):\n",
    "    print(f\"\\n{x=}\")\n",
    "    match x:\n",
    "        case []:\n",
    "            print(\"empty\")\n",
    "        case [10]:\n",
    "            print(\"case 10\")\n",
    "        case [10, *_]:\n",
    "            print(\"case wild\")"
   ]
  },
  {
   "cell_type": "code",
   "execution_count": null,
   "id": "60383c46",
   "metadata": {},
   "outputs": [],
   "source": []
  },
  {
   "cell_type": "code",
   "execution_count": 66,
   "id": "d7c705f4",
   "metadata": {},
   "outputs": [
    {
     "name": "stdout",
     "output_type": "stream",
     "text": [
      "OK\n",
      "not OK\n"
     ]
    }
   ],
   "source": [
    "class HttpStatus:\n",
    "    OK = 200\n",
    "    NOT_FOUND = 404\n",
    "    SERVER_ERROR = 500\n",
    "\n",
    "\n",
    "status = 200\n",
    "if status == HttpStatus.OK:\n",
    "    print(\"OK\")\n",
    "\n",
    "    \n",
    "HttpStatus.OK = 304\n",
    "\n",
    "if status == HttpStatus.OK:\n",
    "    print(\"OK\")\n",
    "else:\n",
    "    print(\"not OK\")\n"
   ]
  },
  {
   "cell_type": "code",
   "execution_count": 67,
   "id": "d09e776d",
   "metadata": {},
   "outputs": [],
   "source": [
    "import enum"
   ]
  },
  {
   "cell_type": "code",
   "execution_count": 75,
   "id": "30c7cb66",
   "metadata": {},
   "outputs": [],
   "source": [
    "class HttpStatus(enum.Enum):\n",
    "    OK = 200\n",
    "    NOT_FOUND = 404\n",
    "    SERVER_ERROR = 500"
   ]
  },
  {
   "cell_type": "code",
   "execution_count": 70,
   "id": "4f88edc4",
   "metadata": {},
   "outputs": [
    {
     "data": {
      "text/plain": [
       "<enum 'HttpStatus'>"
      ]
     },
     "execution_count": 70,
     "metadata": {},
     "output_type": "execute_result"
    }
   ],
   "source": [
    "type(HttpStatus.OK)"
   ]
  },
  {
   "cell_type": "code",
   "execution_count": 78,
   "id": "3e88c8e6",
   "metadata": {},
   "outputs": [
    {
     "data": {
      "text/plain": [
       "(200, 'OK')"
      ]
     },
     "execution_count": 78,
     "metadata": {},
     "output_type": "execute_result"
    }
   ],
   "source": [
    "HttpStatus.OK.value, HttpStatus.OK.name"
   ]
  },
  {
   "cell_type": "code",
   "execution_count": 84,
   "id": "d09777f6",
   "metadata": {},
   "outputs": [
    {
     "name": "stdout",
     "output_type": "stream",
     "text": [
      "OK\n"
     ]
    }
   ],
   "source": [
    "status = HttpStatus(200)\n",
    "\n",
    "if status is HttpStatus.OK:\n",
    "    print(\"OK\")"
   ]
  },
  {
   "cell_type": "code",
   "execution_count": 86,
   "id": "0701ca29",
   "metadata": {},
   "outputs": [
    {
     "ename": "AttributeError",
     "evalue": "can't set attribute",
     "output_type": "error",
     "traceback": [
      "\u001b[0;31m---------------------------------------------------------------------------\u001b[0m",
      "\u001b[0;31mAttributeError\u001b[0m                            Traceback (most recent call last)",
      "Cell \u001b[0;32mIn [86], line 1\u001b[0m\n\u001b[0;32m----> 1\u001b[0m \u001b[43mHttpStatus\u001b[49m\u001b[38;5;241;43m.\u001b[39;49m\u001b[43mOK\u001b[49m\u001b[38;5;241;43m.\u001b[39;49m\u001b[43mvalue\u001b[49m \u001b[38;5;241m=\u001b[39m \u001b[38;5;241m304\u001b[39m\n",
      "File \u001b[0;32m/Library/Frameworks/Python.framework/Versions/3.10/lib/python3.10/types.py:187\u001b[0m, in \u001b[0;36mDynamicClassAttribute.__set__\u001b[0;34m(self, instance, value)\u001b[0m\n\u001b[1;32m    185\u001b[0m \u001b[38;5;28;01mdef\u001b[39;00m \u001b[38;5;21m__set__\u001b[39m(\u001b[38;5;28mself\u001b[39m, instance, value):\n\u001b[1;32m    186\u001b[0m     \u001b[38;5;28;01mif\u001b[39;00m \u001b[38;5;28mself\u001b[39m\u001b[38;5;241m.\u001b[39mfset \u001b[38;5;129;01mis\u001b[39;00m \u001b[38;5;28;01mNone\u001b[39;00m:\n\u001b[0;32m--> 187\u001b[0m         \u001b[38;5;28;01mraise\u001b[39;00m \u001b[38;5;167;01mAttributeError\u001b[39;00m(\u001b[38;5;124m\"\u001b[39m\u001b[38;5;124mcan\u001b[39m\u001b[38;5;124m'\u001b[39m\u001b[38;5;124mt set attribute\u001b[39m\u001b[38;5;124m\"\u001b[39m)\n\u001b[1;32m    188\u001b[0m     \u001b[38;5;28mself\u001b[39m\u001b[38;5;241m.\u001b[39mfset(instance, value)\n",
      "\u001b[0;31mAttributeError\u001b[0m: can't set attribute"
     ]
    }
   ],
   "source": [
    "HttpStatus.OK.value = 304"
   ]
  },
  {
   "cell_type": "code",
   "execution_count": 87,
   "id": "0d872b81",
   "metadata": {},
   "outputs": [
    {
     "name": "stdout",
     "output_type": "stream",
     "text": [
      "HttpStatus.OK\n",
      "HttpStatus.NOT_FOUND\n",
      "HttpStatus.SERVER_ERROR\n"
     ]
    }
   ],
   "source": [
    "for elem in HttpStatus:\n",
    "    print(elem)"
   ]
  },
  {
   "cell_type": "code",
   "execution_count": 88,
   "id": "c454bbbe",
   "metadata": {},
   "outputs": [
    {
     "name": "stdout",
     "output_type": "stream",
     "text": [
      "HttpStatus.OK\n"
     ]
    }
   ],
   "source": [
    "print(HttpStatus.OK)"
   ]
  },
  {
   "cell_type": "code",
   "execution_count": 95,
   "id": "d24adf00",
   "metadata": {},
   "outputs": [
    {
     "ename": "TypeError",
     "evalue": "Attempted to reuse key: 'OK'",
     "output_type": "error",
     "traceback": [
      "\u001b[0;31m---------------------------------------------------------------------------\u001b[0m",
      "\u001b[0;31mTypeError\u001b[0m                                 Traceback (most recent call last)",
      "Cell \u001b[0;32mIn [95], line 2\u001b[0m\n\u001b[1;32m      1\u001b[0m \u001b[38;5;129m@enum\u001b[39m\u001b[38;5;241m.\u001b[39munique\n\u001b[0;32m----> 2\u001b[0m \u001b[38;5;28;01mclass\u001b[39;00m \u001b[38;5;21;01mHttpStatusStr\u001b[39;00m(enum\u001b[38;5;241m.\u001b[39mEnum):\n\u001b[1;32m      3\u001b[0m     OK \u001b[38;5;241m=\u001b[39m \u001b[38;5;241m200\u001b[39m\n\u001b[1;32m      4\u001b[0m     NOT_FOUND \u001b[38;5;241m=\u001b[39m \u001b[38;5;241m404\u001b[39m\n",
      "Cell \u001b[0;32mIn [95], line 5\u001b[0m, in \u001b[0;36mHttpStatusStr\u001b[0;34m()\u001b[0m\n\u001b[1;32m      3\u001b[0m OK \u001b[38;5;241m=\u001b[39m \u001b[38;5;241m200\u001b[39m\n\u001b[1;32m      4\u001b[0m NOT_FOUND \u001b[38;5;241m=\u001b[39m \u001b[38;5;241m404\u001b[39m\n\u001b[0;32m----> 5\u001b[0m OK \u001b[38;5;241m=\u001b[39m \u001b[38;5;241m999\u001b[39m\n",
      "File \u001b[0;32m/Library/Frameworks/Python.framework/Versions/3.10/lib/python3.10/enum.py:134\u001b[0m, in \u001b[0;36m_EnumDict.__setitem__\u001b[0;34m(self, key, value)\u001b[0m\n\u001b[1;32m    131\u001b[0m         key \u001b[38;5;241m=\u001b[39m \u001b[38;5;124m'\u001b[39m\u001b[38;5;124m_order_\u001b[39m\u001b[38;5;124m'\u001b[39m\n\u001b[1;32m    132\u001b[0m \u001b[38;5;28;01melif\u001b[39;00m key \u001b[38;5;129;01min\u001b[39;00m \u001b[38;5;28mself\u001b[39m\u001b[38;5;241m.\u001b[39m_member_names:\n\u001b[1;32m    133\u001b[0m     \u001b[38;5;66;03m# descriptor overwriting an enum?\u001b[39;00m\n\u001b[0;32m--> 134\u001b[0m     \u001b[38;5;28;01mraise\u001b[39;00m \u001b[38;5;167;01mTypeError\u001b[39;00m(\u001b[38;5;124m'\u001b[39m\u001b[38;5;124mAttempted to reuse key: \u001b[39m\u001b[38;5;132;01m%r\u001b[39;00m\u001b[38;5;124m'\u001b[39m \u001b[38;5;241m%\u001b[39m key)\n\u001b[1;32m    135\u001b[0m \u001b[38;5;28;01melif\u001b[39;00m key \u001b[38;5;129;01min\u001b[39;00m \u001b[38;5;28mself\u001b[39m\u001b[38;5;241m.\u001b[39m_ignore:\n\u001b[1;32m    136\u001b[0m     \u001b[38;5;28;01mpass\u001b[39;00m\n",
      "\u001b[0;31mTypeError\u001b[0m: Attempted to reuse key: 'OK'"
     ]
    }
   ],
   "source": [
    "@enum.unique\n",
    "class HttpStatusStr(enum.Enum):\n",
    "    OK = 200\n",
    "    NOT_FOUND = 404\n",
    "    OK = 999\n",
    "    \n",
    "print(HttpStatusStr.OK)"
   ]
  },
  {
   "cell_type": "code",
   "execution_count": null,
   "id": "48a7ee7e",
   "metadata": {},
   "outputs": [],
   "source": [
    "socket.A | socket.B"
   ]
  },
  {
   "cell_type": "code",
   "execution_count": null,
   "id": "07791268",
   "metadata": {},
   "outputs": [],
   "source": []
  },
  {
   "cell_type": "code",
   "execution_count": 97,
   "id": "4d028db2",
   "metadata": {},
   "outputs": [],
   "source": [
    "import dataclasses"
   ]
  },
  {
   "cell_type": "code",
   "execution_count": 111,
   "id": "368ef76b",
   "metadata": {},
   "outputs": [],
   "source": [
    "@dataclasses.dataclass\n",
    "class Point:\n",
    "    x: int\n",
    "    y: int\n",
    "    z: list[int] = dataclasses.field(default_factory=list)"
   ]
  },
  {
   "cell_type": "code",
   "execution_count": 113,
   "id": "cad4a8f2",
   "metadata": {},
   "outputs": [],
   "source": [
    "p = Point(10, 20)"
   ]
  },
  {
   "cell_type": "code",
   "execution_count": 115,
   "id": "5e836ca3",
   "metadata": {},
   "outputs": [
    {
     "data": {
      "text/plain": [
       "(10, 20, [])"
      ]
     },
     "execution_count": 115,
     "metadata": {},
     "output_type": "execute_result"
    }
   ],
   "source": [
    "p.x, p.y, p.z"
   ]
  },
  {
   "cell_type": "code",
   "execution_count": 101,
   "id": "12c624d6",
   "metadata": {},
   "outputs": [
    {
     "name": "stdout",
     "output_type": "stream",
     "text": [
      "Point(x=10, y=20)\n"
     ]
    }
   ],
   "source": [
    "print(p)"
   ]
  },
  {
   "cell_type": "code",
   "execution_count": 102,
   "id": "3d01ab85",
   "metadata": {},
   "outputs": [],
   "source": [
    "p.z = 30"
   ]
  },
  {
   "cell_type": "code",
   "execution_count": 104,
   "id": "2293bcef",
   "metadata": {},
   "outputs": [
    {
     "name": "stdout",
     "output_type": "stream",
     "text": [
      "Point(x=10, y=20) 30\n"
     ]
    }
   ],
   "source": [
    "print(p, p.z)"
   ]
  },
  {
   "cell_type": "code",
   "execution_count": 108,
   "id": "42899073",
   "metadata": {},
   "outputs": [
    {
     "ename": "AttributeError",
     "evalue": "type object 'Point' has no attribute '__slots__'",
     "output_type": "error",
     "traceback": [
      "\u001b[0;31m---------------------------------------------------------------------------\u001b[0m",
      "\u001b[0;31mAttributeError\u001b[0m                            Traceback (most recent call last)",
      "Cell \u001b[0;32mIn [108], line 1\u001b[0m\n\u001b[0;32m----> 1\u001b[0m \u001b[43mPoint\u001b[49m\u001b[38;5;241;43m.\u001b[39;49m\u001b[38;5;18;43m__slots__\u001b[39;49m\n",
      "\u001b[0;31mAttributeError\u001b[0m: type object 'Point' has no attribute '__slots__'"
     ]
    }
   ],
   "source": [
    "Point.__slots__"
   ]
  },
  {
   "cell_type": "code",
   "execution_count": null,
   "id": "7cc7075d",
   "metadata": {},
   "outputs": [],
   "source": []
  },
  {
   "cell_type": "code",
   "execution_count": 105,
   "id": "1fa4024b",
   "metadata": {},
   "outputs": [
    {
     "name": "stdout",
     "output_type": "stream",
     "text": [
      "PointSlots(x=10, y=20)\n"
     ]
    }
   ],
   "source": [
    "@dataclasses.dataclass(slots=True)\n",
    "class PointSlots:\n",
    "    x: int\n",
    "    y: int\n",
    "\n",
    "p = PointSlots(10, 20)\n",
    "print(p)"
   ]
  },
  {
   "cell_type": "code",
   "execution_count": 106,
   "id": "35ddd6fa",
   "metadata": {},
   "outputs": [
    {
     "ename": "AttributeError",
     "evalue": "'PointSlots' object has no attribute 'z'",
     "output_type": "error",
     "traceback": [
      "\u001b[0;31m---------------------------------------------------------------------------\u001b[0m",
      "\u001b[0;31mAttributeError\u001b[0m                            Traceback (most recent call last)",
      "Cell \u001b[0;32mIn [106], line 1\u001b[0m\n\u001b[0;32m----> 1\u001b[0m \u001b[43mp\u001b[49m\u001b[38;5;241;43m.\u001b[39;49m\u001b[43mz\u001b[49m \u001b[38;5;241m=\u001b[39m \u001b[38;5;241m30\u001b[39m\n",
      "\u001b[0;31mAttributeError\u001b[0m: 'PointSlots' object has no attribute 'z'"
     ]
    }
   ],
   "source": [
    "p.z = 30"
   ]
  },
  {
   "cell_type": "code",
   "execution_count": 107,
   "id": "4ba8cb5a",
   "metadata": {},
   "outputs": [
    {
     "data": {
      "text/plain": [
       "('x', 'y')"
      ]
     },
     "execution_count": 107,
     "metadata": {},
     "output_type": "execute_result"
    }
   ],
   "source": [
    "PointSlots.__slots__"
   ]
  },
  {
   "cell_type": "code",
   "execution_count": null,
   "id": "0f34d1d1",
   "metadata": {},
   "outputs": [],
   "source": []
  },
  {
   "cell_type": "code",
   "execution_count": null,
   "id": "7a8b50ed",
   "metadata": {},
   "outputs": [],
   "source": []
  },
  {
   "cell_type": "code",
   "execution_count": null,
   "id": "4db549f4",
   "metadata": {},
   "outputs": [],
   "source": [
    "path = \"/tmp/docs\"\n",
    "with open(path) as f:\n",
    "    pass\n",
    "\n",
    "if os.path.exists(path):\n",
    "    pass\n",
    "\n",
    "\n",
    "os.path.join([path, \"filename\"])  # \"/tmp/docs/filename\""
   ]
  },
  {
   "cell_type": "code",
   "execution_count": 117,
   "id": "7f833c9c",
   "metadata": {},
   "outputs": [],
   "source": [
    "from pathlib import Path"
   ]
  },
  {
   "cell_type": "code",
   "execution_count": 126,
   "id": "9a946d04",
   "metadata": {},
   "outputs": [
    {
     "name": "stdout",
     "output_type": "stream",
     "text": [
      "path.exists()=False\n",
      "path.exists()=True, path.is_dir()=True\n",
      "path_file.exists()=False, path_file.is_dir()=False\n",
      "path_file.exists()=True, path_file.is_dir()=False\n"
     ]
    }
   ],
   "source": [
    "path = Path(\"/tmp/docs\")\n",
    "print(f\"{path.exists()=}\")\n",
    "\n",
    "path = Path.cwd()\n",
    "print(f\"{path.exists()=}, {path.is_dir()=}\")\n",
    "\n",
    "\n",
    "path_file = path / \"new_file\"\n",
    "print(f\"{path_file.exists()=}, {path_file.is_dir()=}\")\n",
    "\n",
    "with path_file.open(\"w\") as f:\n",
    "    f.write(\"abc\")\n",
    "\n",
    "print(f\"{path_file.exists()=}, {path_file.is_dir()=}\")"
   ]
  },
  {
   "cell_type": "code",
   "execution_count": 128,
   "id": "4cfc5642",
   "metadata": {},
   "outputs": [
    {
     "name": "stdout",
     "output_type": "stream",
     "text": [
      "abc"
     ]
    }
   ],
   "source": [
    "!cat new_file"
   ]
  },
  {
   "cell_type": "code",
   "execution_count": 129,
   "id": "ab6ffd19",
   "metadata": {},
   "outputs": [
    {
     "data": {
      "text/plain": [
       "7"
      ]
     },
     "execution_count": 129,
     "metadata": {},
     "output_type": "execute_result"
    }
   ],
   "source": [
    "path_file.write_text(\"qwertyy\")"
   ]
  },
  {
   "cell_type": "code",
   "execution_count": 130,
   "id": "a694a118",
   "metadata": {},
   "outputs": [
    {
     "name": "stdout",
     "output_type": "stream",
     "text": [
      "qwertyy"
     ]
    }
   ],
   "source": [
    "!cat new_file"
   ]
  },
  {
   "cell_type": "code",
   "execution_count": 131,
   "id": "82d7a9d2",
   "metadata": {},
   "outputs": [
    {
     "data": {
      "text/plain": [
       "'qwertyy'"
      ]
     },
     "execution_count": 131,
     "metadata": {},
     "output_type": "execute_result"
    }
   ],
   "source": [
    "path_file.read_text()"
   ]
  },
  {
   "cell_type": "code",
   "execution_count": 133,
   "id": "6244c16b",
   "metadata": {},
   "outputs": [
    {
     "data": {
      "text/plain": [
       "'/'"
      ]
     },
     "execution_count": 133,
     "metadata": {},
     "output_type": "execute_result"
    }
   ],
   "source": [
    "path_file.root"
   ]
  },
  {
   "cell_type": "code",
   "execution_count": 138,
   "id": "ae3264f4",
   "metadata": {},
   "outputs": [
    {
     "name": "stdout",
     "output_type": "stream",
     "text": [
      "intensive-05 made_advance_python_autumn_2022\n",
      "intensive-02 made_advance_python_autumn_2022\n",
      "intensive-03 made_advance_python_autumn_2022\n",
      "intensive-04 made_advance_python_autumn_2022\n",
      ".pytest_cache made_advance_python_autumn_2022\n",
      "advance-07 made_advance_python_autumn_2022\n",
      "advance-06 made_advance_python_autumn_2022\n",
      "advance-01 made_advance_python_autumn_2022\n",
      "advance-08 made_advance_python_autumn_2022\n",
      "__pycache__ made_advance_python_autumn_2022\n",
      "intensive-08 made_advance_python_autumn_2022\n",
      "intensive-01 made_advance_python_autumn_2022\n",
      "intensive-06 made_advance_python_autumn_2022\n",
      "intensive-07 made_advance_python_autumn_2022\n",
      ".mypy_cache made_advance_python_autumn_2022\n",
      ".venv made_advance_python_autumn_2022\n",
      ".ipynb_checkpoints made_advance_python_autumn_2022\n",
      "advance-04 made_advance_python_autumn_2022\n",
      "advance-03 made_advance_python_autumn_2022\n",
      ".git made_advance_python_autumn_2022\n",
      "advance-02 made_advance_python_autumn_2022\n",
      "advance-05 made_advance_python_autumn_2022\n"
     ]
    }
   ],
   "source": [
    "for p in path.iterdir():\n",
    "    if p.is_dir():\n",
    "        print(p.name, p.parent.name)"
   ]
  },
  {
   "cell_type": "code",
   "execution_count": null,
   "id": "0e4b1508",
   "metadata": {},
   "outputs": [],
   "source": []
  }
 ],
 "metadata": {
  "kernelspec": {
   "display_name": "Python 3 (ipykernel)",
   "language": "python",
   "name": "python3"
  },
  "language_info": {
   "codemirror_mode": {
    "name": "ipython",
    "version": 3
   },
   "file_extension": ".py",
   "mimetype": "text/x-python",
   "name": "python",
   "nbconvert_exporter": "python",
   "pygments_lexer": "ipython3",
   "version": "3.10.2"
  }
 },
 "nbformat": 4,
 "nbformat_minor": 5
}
