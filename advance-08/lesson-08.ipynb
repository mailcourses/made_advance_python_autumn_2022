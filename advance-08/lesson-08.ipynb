{
 "cells": [
  {
   "cell_type": "code",
   "execution_count": null,
   "id": "2d07c934",
   "metadata": {},
   "outputs": [],
   "source": [
    "with open(\"file.txt\", \"w\") as f:\n",
    "    f.write(\"written\")\n",
    "    print(\"after write\")\n",
    "\n",
    "print(\"new code\")\n",
    "\n",
    "#x = factorial(1000000)"
   ]
  },
  {
   "cell_type": "code",
   "execution_count": null,
   "id": "953b7f27",
   "metadata": {},
   "outputs": [],
   "source": [
    "def write_file_and_factorial():\n",
    "    f = open(\"file.txt\", \"w\")\n",
    "    f.write(\"written\")\n",
    "    print(\"after write\")\n",
    "\n",
    "    print(\"new code\")\n",
    "\n",
    "    x = factorial(1000000)\n",
    "\n",
    "    f.close()\n",
    "\n",
    "\n",
    "write_file_and_factorial()"
   ]
  },
  {
   "cell_type": "code",
   "execution_count": null,
   "id": "17ede753",
   "metadata": {},
   "outputs": [],
   "source": []
  },
  {
   "cell_type": "code",
   "execution_count": null,
   "id": "b726bff4",
   "metadata": {},
   "outputs": [],
   "source": [
    "#Lock, Semaphore\n",
    "\n",
    "lock = Lock()\n",
    "lock.aquire()\n",
    "try:\n",
    "    func()\n",
    "    raise Exception()\n",
    "finally:\n",
    "    lock.release()\n",
    "\n",
    "\n",
    "with lock:\n",
    "    func()\n",
    "    raise Exception()"
   ]
  },
  {
   "cell_type": "code",
   "execution_count": null,
   "id": "706f2b33",
   "metadata": {},
   "outputs": [],
   "source": []
  },
  {
   "cell_type": "code",
   "execution_count": 34,
   "id": "c9d18f95",
   "metadata": {},
   "outputs": [],
   "source": [
    "class CtxEmpty:\n",
    "    def __init__(self, name):\n",
    "        print(\"init\", name)\n",
    "        self.name = name\n",
    "    \n",
    "    def print_ctx(self):\n",
    "        print(\"print_ctx\", self)\n",
    "    \n",
    "    def __enter__(self):\n",
    "        print(\"enter\")\n",
    "        return self\n",
    "    \n",
    "    def __exit__(self, cls, error, tb):\n",
    "        print(\"exit\")\n",
    "        print(cls, error, tb)\n",
    "        \n",
    "        if isinstance(error, ValueError):\n",
    "            return True\n"
   ]
  },
  {
   "cell_type": "code",
   "execution_count": 35,
   "id": "0d28939a",
   "metadata": {},
   "outputs": [
    {
     "name": "stdout",
     "output_type": "stream",
     "text": [
      "init qwerty\n",
      "enter\n",
      "inside\n",
      "print_ctx <__main__.CtxEmpty object at 0x10eb986d0>\n",
      "exit\n",
      "None None None\n",
      "next block\n"
     ]
    }
   ],
   "source": [
    "with CtxEmpty(\"qwerty\") as ctx:\n",
    "    print(\"inside\")\n",
    "    ctx.print_ctx()\n",
    "\n",
    "print(\"next block\")"
   ]
  },
  {
   "cell_type": "code",
   "execution_count": 11,
   "id": "13e6455c",
   "metadata": {},
   "outputs": [
    {
     "name": "stdout",
     "output_type": "stream",
     "text": [
      "init qwerty\n",
      "enter\n",
      "inside\n",
      "exit\n",
      "<class 'Exception'> wrong <traceback object at 0x10ead9040>\n"
     ]
    },
    {
     "ename": "Exception",
     "evalue": "wrong",
     "output_type": "error",
     "traceback": [
      "\u001b[0;31m---------------------------------------------------------------------------\u001b[0m",
      "\u001b[0;31mException\u001b[0m                                 Traceback (most recent call last)",
      "Cell \u001b[0;32mIn [11], line 3\u001b[0m\n\u001b[1;32m      1\u001b[0m \u001b[38;5;28;01mwith\u001b[39;00m CtxEmpty(\u001b[38;5;124m\"\u001b[39m\u001b[38;5;124mqwerty\u001b[39m\u001b[38;5;124m\"\u001b[39m) \u001b[38;5;28;01mas\u001b[39;00m ctx:\n\u001b[1;32m      2\u001b[0m     \u001b[38;5;28mprint\u001b[39m(\u001b[38;5;124m\"\u001b[39m\u001b[38;5;124minside\u001b[39m\u001b[38;5;124m\"\u001b[39m)\n\u001b[0;32m----> 3\u001b[0m     \u001b[38;5;28;01mraise\u001b[39;00m \u001b[38;5;167;01mException\u001b[39;00m(\u001b[38;5;124m\"\u001b[39m\u001b[38;5;124mwrong\u001b[39m\u001b[38;5;124m\"\u001b[39m)\n\u001b[1;32m      5\u001b[0m \u001b[38;5;28mprint\u001b[39m(\u001b[38;5;124m\"\u001b[39m\u001b[38;5;124mnext block\u001b[39m\u001b[38;5;124m\"\u001b[39m)\n",
      "\u001b[0;31mException\u001b[0m: wrong"
     ]
    }
   ],
   "source": [
    "with CtxEmpty(\"qwerty\") as ctx:\n",
    "    print(\"inside\")\n",
    "    raise Exception(\"wrong\")\n",
    "\n",
    "print(\"next block\")"
   ]
  },
  {
   "cell_type": "code",
   "execution_count": 12,
   "id": "70398876",
   "metadata": {},
   "outputs": [
    {
     "name": "stdout",
     "output_type": "stream",
     "text": [
      "init qwerty\n",
      "enter\n",
      "inside\n",
      "exit\n",
      "<class 'ValueError'> wrong <traceback object at 0x10ead8e40>\n",
      "next block\n"
     ]
    }
   ],
   "source": [
    "with CtxEmpty(\"qwerty\") as ctx:\n",
    "    print(\"inside\")\n",
    "    raise ValueError(\"wrong\")\n",
    "\n",
    "print(\"next block\")"
   ]
  },
  {
   "cell_type": "code",
   "execution_count": null,
   "id": "6fd2f317",
   "metadata": {},
   "outputs": [],
   "source": []
  },
  {
   "cell_type": "code",
   "execution_count": 27,
   "id": "a882c0e0",
   "metadata": {},
   "outputs": [],
   "source": [
    "import contextlib\n",
    "\n",
    "\n",
    "@contextlib.contextmanager\n",
    "def ctx_empty(name):\n",
    "    print(\"init\", name)\n",
    "    print(\"enter\")\n",
    "\n",
    "    try:\n",
    "        yield name\n",
    "    except ValueError:\n",
    "        print(\"no warry\")\n",
    "    finally:\n",
    "        print(\"exit\")\n"
   ]
  },
  {
   "cell_type": "code",
   "execution_count": 28,
   "id": "041475c0",
   "metadata": {},
   "outputs": [
    {
     "name": "stdout",
     "output_type": "stream",
     "text": [
      "init qwerty\n",
      "enter\n",
      "inside qwerty <class 'str'>\n",
      "no warry\n",
      "exit\n",
      "next block\n"
     ]
    }
   ],
   "source": [
    "with ctx_empty(\"qwerty\") as ctx:\n",
    "    print(\"inside\", ctx, type(ctx))\n",
    "    raise ValueError(\"wrong\")\n",
    "\n",
    "print(\"next block\")"
   ]
  },
  {
   "cell_type": "code",
   "execution_count": 29,
   "id": "439c6ff3",
   "metadata": {},
   "outputs": [
    {
     "name": "stdout",
     "output_type": "stream",
     "text": [
      "init qwerty\n",
      "enter\n",
      "inside qwerty <class 'str'>\n",
      "exit\n"
     ]
    },
    {
     "ename": "Exception",
     "evalue": "wrong",
     "output_type": "error",
     "traceback": [
      "\u001b[0;31m---------------------------------------------------------------------------\u001b[0m",
      "\u001b[0;31mException\u001b[0m                                 Traceback (most recent call last)",
      "Cell \u001b[0;32mIn [29], line 3\u001b[0m\n\u001b[1;32m      1\u001b[0m \u001b[38;5;28;01mwith\u001b[39;00m ctx_empty(\u001b[38;5;124m\"\u001b[39m\u001b[38;5;124mqwerty\u001b[39m\u001b[38;5;124m\"\u001b[39m) \u001b[38;5;28;01mas\u001b[39;00m ctx:\n\u001b[1;32m      2\u001b[0m     \u001b[38;5;28mprint\u001b[39m(\u001b[38;5;124m\"\u001b[39m\u001b[38;5;124minside\u001b[39m\u001b[38;5;124m\"\u001b[39m, ctx, \u001b[38;5;28mtype\u001b[39m(ctx))\n\u001b[0;32m----> 3\u001b[0m     \u001b[38;5;28;01mraise\u001b[39;00m \u001b[38;5;167;01mException\u001b[39;00m(\u001b[38;5;124m\"\u001b[39m\u001b[38;5;124mwrong\u001b[39m\u001b[38;5;124m\"\u001b[39m)\n\u001b[1;32m      5\u001b[0m \u001b[38;5;28mprint\u001b[39m(\u001b[38;5;124m\"\u001b[39m\u001b[38;5;124mnext block\u001b[39m\u001b[38;5;124m\"\u001b[39m)\n",
      "\u001b[0;31mException\u001b[0m: wrong"
     ]
    }
   ],
   "source": [
    "with ctx_empty(\"qwerty\") as ctx:\n",
    "    print(\"inside\", ctx, type(ctx))\n",
    "    raise Exception(\"wrong\")\n",
    "\n",
    "print(\"next block\")"
   ]
  },
  {
   "cell_type": "code",
   "execution_count": null,
   "id": "95f62507",
   "metadata": {},
   "outputs": [],
   "source": []
  }
 ],
 "metadata": {
  "kernelspec": {
   "display_name": "Python 3 (ipykernel)",
   "language": "python",
   "name": "python3"
  },
  "language_info": {
   "codemirror_mode": {
    "name": "ipython",
    "version": 3
   },
   "file_extension": ".py",
   "mimetype": "text/x-python",
   "name": "python",
   "nbconvert_exporter": "python",
   "pygments_lexer": "ipython3",
   "version": "3.10.2"
  }
 },
 "nbformat": 4,
 "nbformat_minor": 5
}
